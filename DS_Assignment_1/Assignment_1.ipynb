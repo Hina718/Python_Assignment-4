{
 "cells": [
  {
   "cell_type": "code",
   "execution_count": 1,
   "id": "ff5b677e",
   "metadata": {},
   "outputs": [
    {
     "name": "stdout",
     "output_type": "stream",
     "text": [
      "Twinkle, twinkle, little star,\n",
      "\tHow I wonder what you are!\n",
      "\t\tUp above the world so high,\n",
      "\t\tLike a diamond in the sky.\n",
      "Twinkle, twinkle, little star,\n",
      "\tHow I wonder what you are\n"
     ]
    }
   ],
   "source": [
    "# 1. Write a Python program to print the following string in a specific format (see the\n",
    "# output). \n",
    "\n",
    "print(\"Twinkle, twinkle, little star,\");\n",
    "print(\"\\tHow I wonder what you are!\");\n",
    "print(\"\\t\\tUp above the world so high,\");\n",
    "print(\"\\t\\tLike a diamond in the sky.\");\n",
    "print(\"Twinkle, twinkle, little star,\");\n",
    "print(\"\\tHow I wonder what you are\");"
   ]
  },
  {
   "cell_type": "code",
   "execution_count": 2,
   "id": "710d98ad",
   "metadata": {},
   "outputs": [
    {
     "name": "stdout",
     "output_type": "stream",
     "text": [
      "Python version\n",
      "3.8.8 (default, Apr 13 2021, 15:08:07) [MSC v.1916 32 bit (Intel)]\n"
     ]
    }
   ],
   "source": [
    "# 2. Write a Python program to get the Python version you are using \n",
    "\n",
    "import sys;\n",
    "print(\"Python version\");\n",
    "print (sys.version);"
   ]
  },
  {
   "cell_type": "code",
   "execution_count": 3,
   "id": "026f9e17",
   "metadata": {},
   "outputs": [
    {
     "name": "stdout",
     "output_type": "stream",
     "text": [
      "Current date and time\n",
      "Date 2022-01-01 \tTime 14:25:35\n"
     ]
    }
   ],
   "source": [
    "#3. Write a Python program to display the current date and time\n",
    "\n",
    "import datetime\n",
    "now = datetime.datetime.now()\n",
    "print (\"Current date and time\")\n",
    "print (now.strftime(\"Date %Y-%m-%d \\tTime %H:%M:%S\"))"
   ]
  },
  {
   "cell_type": "code",
   "execution_count": 4,
   "id": "61c841e3",
   "metadata": {},
   "outputs": [
    {
     "name": "stdout",
     "output_type": "stream",
     "text": [
      "Input the radius of the circle : 5\n",
      "The area of the circle radius is :  78.5\n"
     ]
    }
   ],
   "source": [
    "#4. Write a Python program which accepts the radius of a circle from the user and compute\n",
    "# the area. \n",
    "\n",
    "radius = float(input (\"Input the radius of the circle : \"));\n",
    "area   = 3.14 * radius * radius;\n",
    "print(\"The area of the circle radius is : \",area)"
   ]
  },
  {
   "cell_type": "code",
   "execution_count": 5,
   "id": "b7c3245f",
   "metadata": {},
   "outputs": [
    {
     "name": "stdout",
     "output_type": "stream",
     "text": [
      "Enter your First Name : Hina\n",
      "Enter your Last Name : Baloch\n",
      "Baloch Hina\n"
     ]
    }
   ],
   "source": [
    "# 5. Write a Python program which accepts the user's first and last name and print them in\n",
    "# reverse order with a space between them.\n",
    "\n",
    "First_Name = input(\"Enter your First Name : \");\n",
    "Last_Name = input(\"Enter your Last Name : \");\n",
    "print ( Last_Name  + \" \" + First_Name);"
   ]
  },
  {
   "cell_type": "code",
   "execution_count": 6,
   "id": "5b774990",
   "metadata": {},
   "outputs": [
    {
     "name": "stdout",
     "output_type": "stream",
     "text": [
      "Enter Fisrt Number  : 7\n",
      "Enter Second Number : 6\n",
      "13\n"
     ]
    }
   ],
   "source": [
    "# 6. Write a python program which takes two inputs from user and print them addition \n",
    "\n",
    "Num_1 = int(input(\"Enter Fisrt Number  : \"));\n",
    "Num_2 = int(input(\"Enter Second Number : \"));\n",
    "sum;\n",
    "sum = Num_1 + Num_2;\n",
    "print (sum);"
   ]
  },
  {
   "cell_type": "code",
   "execution_count": null,
   "id": "a7bd50b9",
   "metadata": {},
   "outputs": [],
   "source": []
  }
 ],
 "metadata": {
  "kernelspec": {
   "display_name": "Python 3",
   "language": "python",
   "name": "python3"
  },
  "language_info": {
   "codemirror_mode": {
    "name": "ipython",
    "version": 3
   },
   "file_extension": ".py",
   "mimetype": "text/x-python",
   "name": "python",
   "nbconvert_exporter": "python",
   "pygments_lexer": "ipython3",
   "version": "3.8.8"
  }
 },
 "nbformat": 4,
 "nbformat_minor": 5
}
