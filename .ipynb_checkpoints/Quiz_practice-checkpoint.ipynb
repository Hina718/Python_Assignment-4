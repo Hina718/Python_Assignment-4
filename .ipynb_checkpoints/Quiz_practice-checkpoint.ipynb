{
 "cells": [
  {
   "cell_type": "code",
   "execution_count": 1,
   "id": "55d76fab",
   "metadata": {},
   "outputs": [
    {
     "name": "stdout",
     "output_type": "stream",
     "text": [
      "['lion', 12, True, 5.69]\n"
     ]
    }
   ],
   "source": [
    "arr = [\"lion\", 12, True, 5.69]\n",
    "print(arr);"
   ]
  },
  {
   "cell_type": "code",
   "execution_count": 65,
   "id": "2c0a75ed",
   "metadata": {},
   "outputs": [
    {
     "name": "stdout",
     "output_type": "stream",
     "text": [
      "['Hina', 'abid', 'areesha', 'umer', 'ali', 'sadam']\n"
     ]
    }
   ],
   "source": [
    "name =[\"Hina\", \"abid\", \"areesha\", \"umer\", \"ali\", \"sadam\"]\n",
    "print(name);"
   ]
  },
  {
   "cell_type": "code",
   "execution_count": 66,
   "id": "86c8ce25",
   "metadata": {},
   "outputs": [
    {
     "name": "stdout",
     "output_type": "stream",
     "text": [
      "Hina\n"
     ]
    }
   ],
   "source": [
    "print(name[0]);"
   ]
  },
  {
   "cell_type": "code",
   "execution_count": 72,
   "id": "dae344fe",
   "metadata": {},
   "outputs": [
    {
     "name": "stdout",
     "output_type": "stream",
     "text": [
      "['lion', 12, True, 5.69, 'karachi', 'pakistan', 'me', 'you']\n"
     ]
    }
   ],
   "source": [
    "arr = [\"lion\", 12, True, 5.69, \"karachi\", \"pakistan\", \"me\", \"you\"]\n",
    "print(arr);"
   ]
  },
  {
   "cell_type": "code",
   "execution_count": 75,
   "id": "2d914f89",
   "metadata": {},
   "outputs": [
    {
     "name": "stdout",
     "output_type": "stream",
     "text": [
      "['lion', 12, True, 5.69, 'karachi', 'pakistan']\n"
     ]
    }
   ],
   "source": [
    "arr.pop()\n",
    "print(arr);"
   ]
  },
  {
   "cell_type": "code",
   "execution_count": 69,
   "id": "c9eaec3e",
   "metadata": {},
   "outputs": [
    {
     "name": "stdout",
     "output_type": "stream",
     "text": [
      "['lion', 12, True, 5.69, 'karachi', 'pakistan', 'me', 'you']\n"
     ]
    }
   ],
   "source": [
    "print(arr);"
   ]
  },
  {
   "cell_type": "code",
   "execution_count": 70,
   "id": "47689bb4",
   "metadata": {},
   "outputs": [
    {
     "name": "stdout",
     "output_type": "stream",
     "text": [
      "[True, 5.69]\n"
     ]
    }
   ],
   "source": [
    "arr2 =arr[ 2 : 4]\n",
    "print(arr2);"
   ]
  },
  {
   "cell_type": "code",
   "execution_count": 76,
   "id": "e9c57441",
   "metadata": {},
   "outputs": [
    {
     "name": "stdout",
     "output_type": "stream",
     "text": [
      "['lion', 12]\n"
     ]
    }
   ],
   "source": [
    "arr2 =arr[ :2]\n",
    "print(arr2);\n"
   ]
  },
  {
   "cell_type": "code",
   "execution_count": 74,
   "id": "9355b369",
   "metadata": {},
   "outputs": [
    {
     "name": "stdout",
     "output_type": "stream",
     "text": [
      "['lion', 12, True, 5.69, 'karachi', 'pakistan', 'me']\n"
     ]
    }
   ],
   "source": [
    "arr.pop()\n",
    "print(arr);"
   ]
  },
  {
   "cell_type": "code",
   "execution_count": 77,
   "id": "328aba76",
   "metadata": {},
   "outputs": [
    {
     "name": "stdout",
     "output_type": "stream",
     "text": [
      "['lion', 12, True]\n"
     ]
    }
   ],
   "source": [
    "arr2 =arr[ : 3]\n",
    "print(arr2);"
   ]
  },
  {
   "cell_type": "code",
   "execution_count": 35,
   "id": "b480a3ec",
   "metadata": {},
   "outputs": [
    {
     "name": "stdout",
     "output_type": "stream",
     "text": [
      "['Hina', 'abid', 'areesha', 'umer', 'ali', 'sadam', 'Mustafa', 'Mustafa', 'ahmed', 'Rubab', 'Sehrish', 'ahmed', 'Rubab', 'Sehrish', 'ahmed', 'Rubab']\n"
     ]
    }
   ],
   "source": [
    "name.append(\"Sehrish\")\n",
    "name.append(\"ahmed\")\n",
    "name.append(\"Rubab\")\n",
    "print(name);"
   ]
  },
  {
   "cell_type": "code",
   "execution_count": 56,
   "id": "83e5bcf0",
   "metadata": {},
   "outputs": [
    {
     "name": "stdout",
     "output_type": "stream",
     "text": [
      "['Hina', 'abid', 'areesha', 'umer', 'ali', 'sadam', 'Sehrish', 'ahmed', 'Rubab']\n"
     ]
    }
   ],
   "source": [
    "name.remove('ahmed')\n",
    "\n",
    "print(name);"
   ]
  },
  {
   "cell_type": "code",
   "execution_count": 55,
   "id": "c2630d1b",
   "metadata": {},
   "outputs": [
    {
     "name": "stdout",
     "output_type": "stream",
     "text": [
      "list now :  ['physics', 'chemistry', 'maths']\n",
      "list now :  ['physics', 'chemistry']\n"
     ]
    }
   ],
   "source": [
    "list1 = ['physics', 'Biology', 'chemistry', 'maths']\n",
    "list1.remove('Biology')\n",
    "print (\"list now : \", list1)\n",
    "list1.remove('maths')\n",
    "print (\"list now : \", list1)"
   ]
  },
  {
   "cell_type": "code",
   "execution_count": 57,
   "id": "5faf82f9",
   "metadata": {},
   "outputs": [
    {
     "name": "stdout",
     "output_type": "stream",
     "text": [
      "['Hina', 'abid', 'areesha', 'umer', 'ali', 'sadam', 'Sehrish', 'ahmed']\n"
     ]
    }
   ],
   "source": [
    "name.pop()\n",
    "\n",
    "print(name);"
   ]
  },
  {
   "cell_type": "code",
   "execution_count": null,
   "id": "3e741fdb",
   "metadata": {},
   "outputs": [],
   "source": []
  },
  {
   "cell_type": "code",
   "execution_count": 59,
   "id": "1d4830a7",
   "metadata": {},
   "outputs": [
    {
     "name": "stdout",
     "output_type": "stream",
     "text": [
      "['lion', 12, True, 5.69, 'karachi', 'pakistan', 'me', 'you']\n"
     ]
    }
   ],
   "source": []
  },
  {
   "cell_type": "code",
   "execution_count": 60,
   "id": "470fcbf5",
   "metadata": {},
   "outputs": [
    {
     "name": "stdout",
     "output_type": "stream",
     "text": [
      "['lion', 12, True, 5.69, 'karachi', 'pakistan', 'me']\n"
     ]
    }
   ],
   "source": [
    "arr.pop()\n",
    "print(arr);"
   ]
  },
  {
   "cell_type": "code",
   "execution_count": 61,
   "id": "959ddb15",
   "metadata": {},
   "outputs": [
    {
     "name": "stdout",
     "output_type": "stream",
     "text": [
      "['lion', 12, 5.69, 'karachi', 'pakistan', 'me']\n"
     ]
    }
   ],
   "source": [
    "del arr[2]\n",
    "\n",
    "print(arr);"
   ]
  },
  {
   "cell_type": "code",
   "execution_count": 62,
   "id": "ef56d9b2",
   "metadata": {},
   "outputs": [
    {
     "name": "stdout",
     "output_type": "stream",
     "text": [
      "['lion', 12, 5.69, 'karachi', 'Hina', 'pakistan', 'me']\n"
     ]
    }
   ],
   "source": [
    "arr.insert(4,\"Hina\")\n",
    "print(arr);"
   ]
  },
  {
   "cell_type": "code",
   "execution_count": 64,
   "id": "be3bf662",
   "metadata": {},
   "outputs": [
    {
     "name": "stdout",
     "output_type": "stream",
     "text": [
      "['lion', 12, 5.69, 'karachi', 'Hina', 'pakistan', 'me', 'Mustafa']\n"
     ]
    }
   ],
   "source": [
    "arr.append(\"Mustafa\")\n",
    "print(arr)"
   ]
  },
  {
   "cell_type": "code",
   "execution_count": null,
   "id": "960e1b83",
   "metadata": {},
   "outputs": [],
   "source": []
  }
 ],
 "metadata": {
  "kernelspec": {
   "display_name": "Python 3",
   "language": "python",
   "name": "python3"
  },
  "language_info": {
   "codemirror_mode": {
    "name": "ipython",
    "version": 3
   },
   "file_extension": ".py",
   "mimetype": "text/x-python",
   "name": "python",
   "nbconvert_exporter": "python",
   "pygments_lexer": "ipython3",
   "version": "3.8.8"
  }
 },
 "nbformat": 4,
 "nbformat_minor": 5
}
