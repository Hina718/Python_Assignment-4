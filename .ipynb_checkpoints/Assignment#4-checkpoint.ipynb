{
 "cells": [
  {
   "cell_type": "code",
   "execution_count": 108,
   "id": "e71ba58c",
   "metadata": {},
   "outputs": [
    {
     "name": "stdout",
     "output_type": "stream",
     "text": [
      "\n",
      "Enter First Number  : 4\n",
      "\n",
      "Enter Second Number : 2\n",
      "\n",
      "Enter Operator\n",
      "\n",
      "For Addition      '+'\n",
      "\n",
      "For Subtraction   '-'\n",
      "\n",
      "For Mutiplication '*'\n",
      "\n",
      "For Division      '/'\n",
      "\n",
      "For Power         '**'    \n",
      "\n",
      "OPerator is       : +\n",
      "\n",
      "Enter First Number  : 4\n",
      "\n",
      "Enter Second Number : 2\n",
      "\n",
      "Result is  6\n"
     ]
    }
   ],
   "source": [
    "## 1. Make a calculator using Python with addition , subtraction ,\n",
    "# multiplication ,division and power.\n",
    "\n",
    "num1 = int(input(\"\\nEnter First Number  : \"));\n",
    "num2 = int(input(\"\\nEnter Second Number : \")); \n",
    "char = (input(\"\\nEnter Operator\\n\\nFor Addition      '+'\\n\\nFor Subtraction   '-'\\n\\nFor Mutiplication '*'\\n\\nFor Division      '/'\\n\\nFor Power         '**'    \\n\\nOPerator is       : \"));\n",
    "\n",
    "result = 0;\n",
    "\n",
    "print(\"\\nEnter First Number  :\",num1);\n",
    "\n",
    "print(\"\\nEnter Second Number :\",num2);\n",
    "\n",
    "if char == '+':\n",
    "    result = num1 + num2\n",
    "    \n",
    "elif char == '-':\n",
    "    result = num1 - num2\n",
    "     \n",
    "elif char == '*':\n",
    "    result = num1 * num2\n",
    "      \n",
    "elif char == '/':\n",
    "    result = num1 / num2\n",
    "\n",
    "elif char == '**':\n",
    "    result = num1 ** num2\n",
    "      \n",
    "else:\n",
    "    print(\"\\nPlease Enter Valid Operator\");\n",
    "\n",
    "print(\"\\nResult is \",result);"
   ]
  },
  {
   "cell_type": "code",
   "execution_count": 96,
   "id": "9394ef54",
   "metadata": {},
   "outputs": [
    {
     "name": "stdout",
     "output_type": "stream",
     "text": [
      "4\n",
      "9\n",
      "-8\n"
     ]
    }
   ],
   "source": [
    "# 2. Write a program to check if there is any numeric value in list using for\n",
    "# loop.\n",
    "\n",
    "list = [\"Horse\", \"Camel\", 4, \"Duck\", 9, -8] \n",
    "for i in list: \n",
    "    if type(i) == int: \n",
    "        print(i);"
   ]
  },
  {
   "cell_type": "code",
   "execution_count": 94,
   "id": "6bba15d2",
   "metadata": {},
   "outputs": [
    {
     "name": "stdout",
     "output_type": "stream",
     "text": [
      "{1: 'C langauge', 2: 'Python', 3: 'Rust', 4: 'Java'}\n"
     ]
    }
   ],
   "source": [
    "# 3. Write a Python script to add a key to a dictionary.\n",
    "\n",
    "Programming_Languages = {1: \"C langauge\", 2: \"Python\", 3: \"Rust\"}\n",
    "\n",
    "Programming_Languages  [4] = \"Java\" \n",
    "\n",
    "print(Programming_Languages )"
   ]
  },
  {
   "cell_type": "code",
   "execution_count": 39,
   "id": "fd49ddef",
   "metadata": {},
   "outputs": [
    {
     "name": "stdout",
     "output_type": "stream",
     "text": [
      "217\n"
     ]
    }
   ],
   "source": [
    "# 4. Write a Python program to sum all the numeric items in a dictionary.\n",
    "\n",
    "Numeric_items = {'item_1':10,'item_2':20,'item_3':62,'item_4':25,'item_5':30,'item_6':70}\n",
    "\n",
    "print(sum(Numeric_items.values()));\n"
   ]
  },
  {
   "cell_type": "code",
   "execution_count": 5,
   "id": "c66657be",
   "metadata": {},
   "outputs": [
    {
     "name": "stdout",
     "output_type": "stream",
     "text": [
      "\n",
      "Duplicate Value is : 2 \n",
      "Duplicate Value is : 8 \n",
      "Duplicate Value is : 3 "
     ]
    }
   ],
   "source": [
    "# 5. Write a program to identify duplicate values from list.\n",
    "\n",
    "list= [1, 2, 3, 4, 2, 7, 8, 8, 3]\n",
    "\n",
    "list_1=[]\n",
    "\n",
    "for i in list:\n",
    "    if i not in list_1:\n",
    "        list_1.append(i)\n",
    "    else:\n",
    "        \n",
    "        print(\"\\nDuplicate Value is :\",i,end=' ')"
   ]
  },
  {
   "cell_type": "code",
   "execution_count": 6,
   "id": "49897384",
   "metadata": {},
   "outputs": [
    {
     "name": "stdout",
     "output_type": "stream",
     "text": [
      "\n",
      "Enter Key : 2\n",
      "\n",
      "Key is Already Exists:\n",
      "\n",
      "Value is  :    Book_2\n"
     ]
    }
   ],
   "source": [
    "# 6. Write a Python script to check if a given key already exists in a\n",
    "# dictionary.\n",
    "\n",
    "Distionary={1: \"Book_1\", 2: \"Book_2\", 3: \"Book_3\", 4: \"Book_4\", 5: \"Book_5\"}\n",
    "key = int(input(\"\\nEnter Key : \"));\n",
    "\n",
    "if key in Distionary.keys():\n",
    "\n",
    "    print(\"\\nKey is Already Exists:\")\n",
    "    print(\"\\nValue is  :   \",Distionary[key])\n",
    "\n",
    "else:\n",
    "      print(\"\\nKey isn't present!\")"
   ]
  },
  {
   "cell_type": "code",
   "execution_count": null,
   "id": "ec4f735c",
   "metadata": {},
   "outputs": [],
   "source": []
  },
  {
   "cell_type": "code",
   "execution_count": null,
   "id": "cdf38d7c",
   "metadata": {},
   "outputs": [],
   "source": []
  },
  {
   "cell_type": "code",
   "execution_count": null,
   "id": "39b5f3c8",
   "metadata": {},
   "outputs": [],
   "source": []
  },
  {
   "cell_type": "code",
   "execution_count": null,
   "id": "c5e926e4",
   "metadata": {},
   "outputs": [],
   "source": []
  }
 ],
 "metadata": {
  "kernelspec": {
   "display_name": "Python 3",
   "language": "python",
   "name": "python3"
  },
  "language_info": {
   "codemirror_mode": {
    "name": "ipython",
    "version": 3
   },
   "file_extension": ".py",
   "mimetype": "text/x-python",
   "name": "python",
   "nbconvert_exporter": "python",
   "pygments_lexer": "ipython3",
   "version": "3.8.8"
  }
 },
 "nbformat": 4,
 "nbformat_minor": 5
}
