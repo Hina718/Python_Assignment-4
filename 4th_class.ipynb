{
 "cells": [
  {
   "cell_type": "code",
   "execution_count": 7,
   "id": "74bd26e3",
   "metadata": {},
   "outputs": [
    {
     "name": "stdout",
     "output_type": "stream",
     "text": [
      "Sum of number is 15\n"
     ]
    }
   ],
   "source": [
    "# 10.Write a Python program to sum all the numeric items in a list?\n",
    "\n",
    "num = [1,2,3,4,5] \n",
    "\n",
    "Sum = sum(num);\n",
    "\n",
    "print(\"Sum of number is\",Sum);"
   ]
  },
  {
   "cell_type": "code",
   "execution_count": 15,
   "id": "9481a0dc",
   "metadata": {},
   "outputs": [
    {
     "name": "stdout",
     "output_type": "stream",
     "text": [
      "Largest element given list is: 1000\n"
     ]
    }
   ],
   "source": [
    "# 11.Write a Python program to get the largest number from a numeric list. \n",
    "\n",
    "List = [20, 1000, 400, 45, 40]\n",
    "\n",
    "print(\"Largest element given list is:\", max(List))"
   ]
  },
  {
   "cell_type": "code",
   "execution_count": 1,
   "id": "68fb6479",
   "metadata": {},
   "outputs": [
    {
     "name": "stdout",
     "output_type": "stream",
     "text": [
      "Sum of number is 15\n"
     ]
    }
   ],
   "source": [
    "num = [1,2,3,4,5] \n",
    "\n",
    "Sum = sum(num);\n",
    "\n",
    "print(\"Sum of number is\",Sum);\n"
   ]
  },
  {
   "cell_type": "code",
   "execution_count": 2,
   "id": "f35d0053",
   "metadata": {},
   "outputs": [
    {
     "name": "stdout",
     "output_type": "stream",
     "text": [
      "Current date and time\n",
      "Date 2021-10-24 \tTime 11:55:02\n"
     ]
    }
   ],
   "source": [
    "import datetime\n",
    "now = datetime.datetime.now()\n",
    "print (\"Current date and time\")\n",
    "print (now.strftime(\"Date %Y-%m-%d \\tTime %H:%M:%S\"))"
   ]
  },
  {
   "cell_type": "code",
   "execution_count": null,
   "id": "55d5704e",
   "metadata": {},
   "outputs": [],
   "source": []
  }
 ],
 "metadata": {
  "kernelspec": {
   "display_name": "Python 3",
   "language": "python",
   "name": "python3"
  },
  "language_info": {
   "codemirror_mode": {
    "name": "ipython",
    "version": 3
   },
   "file_extension": ".py",
   "mimetype": "text/x-python",
   "name": "python",
   "nbconvert_exporter": "python",
   "pygments_lexer": "ipython3",
   "version": "3.8.8"
  }
 },
 "nbformat": 4,
 "nbformat_minor": 5
}
