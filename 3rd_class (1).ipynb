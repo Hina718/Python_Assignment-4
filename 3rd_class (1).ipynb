{
 "cells": [
  {
   "cell_type": "code",
   "execution_count": 2,
   "id": "0dd6e5bb",
   "metadata": {},
   "outputs": [
    {
     "name": "stdout",
     "output_type": "stream",
     "text": [
      "Twinkle, twinkle, little star,\n",
      "\tHow I wonder what you are!\n",
      "\t\tUp above the world so high,\n",
      "\t\tLike a diamond in the sky.\n",
      "Twinkle, twinkle, little star,\n",
      "\tHow I wonder what you are\n"
     ]
    }
   ],
   "source": [
    "# 1. Write a Python program to print the following string in a specific format (see the\n",
    "# output). \n",
    "\n",
    "print(\"Twinkle, twinkle, little star,\");\n",
    "print(\"\\tHow I wonder what you are!\");\n",
    "print(\"\\t\\tUp above the world so high,\");\n",
    "print(\"\\t\\tLike a diamond in the sky.\");\n",
    "print(\"Twinkle, twinkle, little star,\");\n",
    "print(\"\\tHow I wonder what you are\");\n"
   ]
  },
  {
   "cell_type": "code",
   "execution_count": 3,
   "id": "bd50d23d",
   "metadata": {},
   "outputs": [
    {
     "name": "stdout",
     "output_type": "stream",
     "text": [
      "Python version\n",
      "3.8.8 (default, Apr 13 2021, 15:08:07) [MSC v.1916 32 bit (Intel)]\n"
     ]
    }
   ],
   "source": [
    "# 2. Write a Python program to get the Python version you are using \n",
    "\n",
    "import sys;\n",
    "print(\"Python version\");\n",
    "print (sys.version);"
   ]
  },
  {
   "cell_type": "code",
   "execution_count": 4,
   "id": "a19f69f7",
   "metadata": {},
   "outputs": [
    {
     "name": "stdout",
     "output_type": "stream",
     "text": [
      "Current date and time : \n",
      "2021-10-22 01:05:51\n"
     ]
    }
   ],
   "source": [
    "#3. Write a Python program to display the current date and time\n",
    "\n",
    "import datetime\n",
    "now = datetime.datetime.now()\n",
    "print (\"Current date and time : \")\n",
    "print (now.strftime(\"%Y-%m-%d %H:%M:%S\"))"
   ]
  },
  {
   "cell_type": "code",
   "execution_count": 5,
   "id": "65b183fa",
   "metadata": {},
   "outputs": [
    {
     "name": "stdout",
     "output_type": "stream",
     "text": [
      "Input the radius of the circle : 4\n",
      "The area of the circle radius is :  50.24\n"
     ]
    }
   ],
   "source": [
    "#4. Write a Python program which accepts the radius of a circle from the user and compute\n",
    "# the area. \n",
    "\n",
    "radius = float(input (\"Input the radius of the circle : \"));\n",
    "area   = 3.14 * radius * radius;\n",
    "print(\"The area of the circle radius is : \",area)"
   ]
  },
  {
   "cell_type": "code",
   "execution_count": 7,
   "id": "0986b430",
   "metadata": {},
   "outputs": [
    {
     "name": "stdout",
     "output_type": "stream",
     "text": [
      "Enter your First Name : Hina\n",
      "Enter your Last Name : Baloch\n",
      "Baloch Hina\n"
     ]
    }
   ],
   "source": [
    "# 5. Write a Python program which accepts the user's first and last name and print them in\n",
    "# reverse order with a space between them.\n",
    "\n",
    "First_Name = input(\"Enter your First Name : \");\n",
    "Last_Name = input(\"Enter your Last Name : \");\n",
    "print ( Last_Name  + \" \" + First_Name);"
   ]
  },
  {
   "cell_type": "code",
   "execution_count": 8,
   "id": "32f65c29",
   "metadata": {},
   "outputs": [
    {
     "name": "stdout",
     "output_type": "stream",
     "text": [
      "Enter Fisrt Number  : 14\n",
      "Enter Second Number : 2\n",
      "16\n"
     ]
    }
   ],
   "source": [
    "# 6. Write a python program which takes two inputs from user and print them addition \n",
    "\n",
    "Num_1 = int(input(\"Enter Fisrt Number  : \"));\n",
    "Num_2 = int(input(\"Enter Second Number : \"));\n",
    "sum;\n",
    "sum = Num_1 + Num_2;\n",
    "print (sum);"
   ]
  },
  {
   "cell_type": "code",
   "execution_count": 6,
   "id": "c6791623",
   "metadata": {},
   "outputs": [
    {
     "name": "stdout",
     "output_type": "stream",
     "text": [
      "\n",
      "Enter English  Marks  : 85\n",
      "\n",
      "Enter Urdu     Marks  : 75\n",
      "\n",
      "Enter Islamiat Marks  : 45\n",
      "\n",
      "Enter Maths    Marks  : 65\n",
      "\n",
      "Enter Science  Marks  : 52\n",
      "\n",
      "Total marks is :  322\n",
      "\n",
      "Percentage is  :  64.4\n",
      "\n",
      "  Grade  {B}\n"
     ]
    }
   ],
   "source": [
    "# 7. Write a program which takes 5 inputs from user for different subject’s marks, total it\n",
    "# and generate mark sheet using grades ? \n",
    "\n",
    "English  = int(input(\"\\nEnter English  Marks  : \"));\n",
    "Urdu     = int(input(\"\\nEnter Urdu     Marks  : \"));\n",
    "Islamiat = int(input(\"\\nEnter Islamiat Marks  : \"));\n",
    "Maths    = int(input(\"\\nEnter Maths    Marks  : \"));\n",
    "Science  = int(input(\"\\nEnter Science  Marks  : \"));\n",
    "sum;\n",
    "total = 500;\n",
    "\n",
    "sum = English + Urdu + Islamiat + Maths + Science;\n",
    "print(\"\\nTotal marks is : \",sum);\n",
    "\n",
    "percent = sum/total*100;\n",
    "print(\"\\nPercentage is  : \",percent);\n",
    "\n",
    "if percent >=91 and percent <=100:\n",
    "    print(\"\\n  Grade  {A+}\");\n",
    "\n",
    "elif percent >=81 and percent <90 :\n",
    "    print(\"\\n  Grade  {A}\");\n",
    "\n",
    "elif percent >=71 and percent <80 :\n",
    "    print(\"\\n  Grade  {A-}\");\n",
    "    \n",
    "elif percent >=61 and percent <70 :\n",
    "    print(\"\\n  Grade  {B}\");\n",
    "    \n",
    "elif percent >=51 and percent <60 :\n",
    "    print(\"\\n  Grade  {C}\");\n",
    "    \n",
    "elif percent >=41 and percent <=50 :\n",
    "    print(\"\\n  Grade  {D}\");\n",
    "    \n",
    "else :\n",
    "   print(\"\\n Fail\");\n",
    "    \n",
    "\n",
    "   \n",
    "\n"
   ]
  },
  {
   "cell_type": "code",
   "execution_count": 5,
   "id": "15eef2e5",
   "metadata": {},
   "outputs": [
    {
     "name": "stdout",
     "output_type": "stream",
     "text": [
      "Sum of number is 15\n"
     ]
    }
   ],
   "source": [
    "# 10.Write a Python program to sum all the numeric items in a list?\n",
    "\n",
    "num = [1,2,3,4,5] \n",
    "\n",
    "Sum = sum(num) \n",
    "\n",
    "print(\"Sum of number is\",Sum)"
   ]
  },
  {
   "cell_type": "code",
   "execution_count": 7,
   "id": "c49b10ad",
   "metadata": {},
   "outputs": [
    {
     "name": "stdout",
     "output_type": "stream",
     "text": [
      "Enter Number : 5\n",
      "5  is ODD\n"
     ]
    }
   ],
   "source": [
    "# 8. Write a program which take input from user and identify that the given number is even\n",
    "# or odd?\n",
    "\n",
    "num =int(input(\"Enter Number : \"));\n",
    "\n",
    "if num % 2 == 0:\n",
    "\n",
    "    print(num,\" is EVEN\");\n",
    "\n",
    "else:\n",
    "    print(num,\" is ODD\");"
   ]
  },
  {
   "cell_type": "code",
   "execution_count": null,
   "id": "32523dc5",
   "metadata": {},
   "outputs": [],
   "source": [
    "# 9. Write a program which print the length of the list? \n",
    "\n",
    "List = ['Hina',1,78.5,'Karachi']\n",
    "\n",
    "Length = len(List)\n",
    "\n",
    "print(\"Length of List is : \",Length);"
   ]
  },
  {
   "cell_type": "code",
   "execution_count": null,
   "id": "87683742",
   "metadata": {},
   "outputs": [],
   "source": []
  },
  {
   "cell_type": "code",
   "execution_count": null,
   "id": "084f5e4c",
   "metadata": {},
   "outputs": [],
   "source": []
  }
 ],
 "metadata": {
  "kernelspec": {
   "display_name": "Python 3",
   "language": "python",
   "name": "python3"
  },
  "language_info": {
   "codemirror_mode": {
    "name": "ipython",
    "version": 3
   },
   "file_extension": ".py",
   "mimetype": "text/x-python",
   "name": "python",
   "nbconvert_exporter": "python",
   "pygments_lexer": "ipython3",
   "version": "3.8.8"
  }
 },
 "nbformat": 4,
 "nbformat_minor": 5
}
